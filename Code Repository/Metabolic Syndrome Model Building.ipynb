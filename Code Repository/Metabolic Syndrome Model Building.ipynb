{
 "cells": [
  {
   "cell_type": "markdown",
   "metadata": {},
   "source": [
    "## Final Project for COSC-E4 (Machine Learning) AY 2021-2022\n",
    "### **Metabolic Syndrome Prediction Model with Catboost classifier**\n",
    "\n",
    "We built a model that can be used for predicting whether the person has a metabolic syndrome or not, based on common risk factors. In this model we created, we have achieved an accuracy mean of **89.47%**, which is shown below.\n",
    "\n",
    "### **Dataset Description**\n",
    "\n",
    "The dataset for analysis came from Centers for Disease Control and Prevention of USA. National Health and Nutrition Examination Survey **(NHANES)**"
   ]
  },
  {
   "cell_type": "code",
   "execution_count": 2,
   "metadata": {},
   "outputs": [],
   "source": [
    "# Import all needed library\n",
    "import numpy as np # linear algebra\n",
    "import pandas as pd # data processing, CSV file I/O (e.g. pd.read_csv)\n",
    "import seaborn as sns\n",
    "import matplotlib.pyplot as plt\n",
    "from catboost import CatBoostClassifier, Pool, cv\n",
    "from sklearn.model_selection import train_test_split\n",
    "from sklearn.metrics import confusion_matrix, classification_report, accuracy_score\n",
    "# import matplotlib.pyplot as plt # for data visualization purposes\n",
    "# import seaborn as sns # for statistical data visualization\n",
    "import optuna\n",
    "from optuna.samplers import TPESampler\n",
    "pd.pandas.set_option('display.max_columns',None)\n"
   ]
  },
  {
   "cell_type": "code",
   "execution_count": 3,
   "metadata": {},
   "outputs": [],
   "source": [
    "data = 'Metabolic_Syndrome.csv'\n",
    "df = pd.read_csv(data, index_col= 0)"
   ]
  },
  {
   "cell_type": "code",
   "execution_count": 4,
   "metadata": {},
   "outputs": [
    {
     "data": {
      "text/html": [
       "<div>\n",
       "<style scoped>\n",
       "    .dataframe tbody tr th:only-of-type {\n",
       "        vertical-align: middle;\n",
       "    }\n",
       "\n",
       "    .dataframe tbody tr th {\n",
       "        vertical-align: top;\n",
       "    }\n",
       "\n",
       "    .dataframe thead th {\n",
       "        text-align: right;\n",
       "    }\n",
       "</style>\n",
       "<table border=\"1\" class=\"dataframe\">\n",
       "  <thead>\n",
       "    <tr style=\"text-align: right;\">\n",
       "      <th></th>\n",
       "      <th>Age</th>\n",
       "      <th>Sex</th>\n",
       "      <th>Marital</th>\n",
       "      <th>Income</th>\n",
       "      <th>Race</th>\n",
       "      <th>WaistCirc</th>\n",
       "      <th>BMI</th>\n",
       "      <th>Albuminuria</th>\n",
       "      <th>UrAlbCr</th>\n",
       "      <th>UricAcid</th>\n",
       "      <th>BloodGlucose</th>\n",
       "      <th>HDL</th>\n",
       "      <th>Triglycerides</th>\n",
       "      <th>MetabolicSyndrome</th>\n",
       "    </tr>\n",
       "    <tr>\n",
       "      <th>seqn</th>\n",
       "      <th></th>\n",
       "      <th></th>\n",
       "      <th></th>\n",
       "      <th></th>\n",
       "      <th></th>\n",
       "      <th></th>\n",
       "      <th></th>\n",
       "      <th></th>\n",
       "      <th></th>\n",
       "      <th></th>\n",
       "      <th></th>\n",
       "      <th></th>\n",
       "      <th></th>\n",
       "      <th></th>\n",
       "    </tr>\n",
       "  </thead>\n",
       "  <tbody>\n",
       "    <tr>\n",
       "      <th>62161</th>\n",
       "      <td>22</td>\n",
       "      <td>Male</td>\n",
       "      <td>Single</td>\n",
       "      <td>8200.0</td>\n",
       "      <td>White</td>\n",
       "      <td>81.0</td>\n",
       "      <td>23.3</td>\n",
       "      <td>0</td>\n",
       "      <td>3.88</td>\n",
       "      <td>4.9</td>\n",
       "      <td>92</td>\n",
       "      <td>41</td>\n",
       "      <td>84</td>\n",
       "      <td>No MetSyn</td>\n",
       "    </tr>\n",
       "    <tr>\n",
       "      <th>62164</th>\n",
       "      <td>44</td>\n",
       "      <td>Female</td>\n",
       "      <td>Married</td>\n",
       "      <td>4500.0</td>\n",
       "      <td>White</td>\n",
       "      <td>80.1</td>\n",
       "      <td>23.2</td>\n",
       "      <td>0</td>\n",
       "      <td>8.55</td>\n",
       "      <td>4.5</td>\n",
       "      <td>82</td>\n",
       "      <td>28</td>\n",
       "      <td>56</td>\n",
       "      <td>No MetSyn</td>\n",
       "    </tr>\n",
       "    <tr>\n",
       "      <th>62169</th>\n",
       "      <td>21</td>\n",
       "      <td>Male</td>\n",
       "      <td>Single</td>\n",
       "      <td>800.0</td>\n",
       "      <td>Asian</td>\n",
       "      <td>69.6</td>\n",
       "      <td>20.1</td>\n",
       "      <td>0</td>\n",
       "      <td>5.07</td>\n",
       "      <td>5.4</td>\n",
       "      <td>107</td>\n",
       "      <td>43</td>\n",
       "      <td>78</td>\n",
       "      <td>No MetSyn</td>\n",
       "    </tr>\n",
       "    <tr>\n",
       "      <th>62172</th>\n",
       "      <td>43</td>\n",
       "      <td>Female</td>\n",
       "      <td>Single</td>\n",
       "      <td>2000.0</td>\n",
       "      <td>Black</td>\n",
       "      <td>120.4</td>\n",
       "      <td>33.3</td>\n",
       "      <td>0</td>\n",
       "      <td>5.22</td>\n",
       "      <td>5.0</td>\n",
       "      <td>104</td>\n",
       "      <td>73</td>\n",
       "      <td>141</td>\n",
       "      <td>No MetSyn</td>\n",
       "    </tr>\n",
       "    <tr>\n",
       "      <th>62177</th>\n",
       "      <td>51</td>\n",
       "      <td>Male</td>\n",
       "      <td>Married</td>\n",
       "      <td>NaN</td>\n",
       "      <td>Asian</td>\n",
       "      <td>81.1</td>\n",
       "      <td>20.1</td>\n",
       "      <td>0</td>\n",
       "      <td>8.13</td>\n",
       "      <td>5.0</td>\n",
       "      <td>95</td>\n",
       "      <td>43</td>\n",
       "      <td>126</td>\n",
       "      <td>No MetSyn</td>\n",
       "    </tr>\n",
       "  </tbody>\n",
       "</table>\n",
       "</div>"
      ],
      "text/plain": [
       "       Age     Sex  Marital  Income   Race  WaistCirc   BMI  Albuminuria  \\\n",
       "seqn                                                                       \n",
       "62161   22    Male   Single  8200.0  White       81.0  23.3            0   \n",
       "62164   44  Female  Married  4500.0  White       80.1  23.2            0   \n",
       "62169   21    Male   Single   800.0  Asian       69.6  20.1            0   \n",
       "62172   43  Female   Single  2000.0  Black      120.4  33.3            0   \n",
       "62177   51    Male  Married     NaN  Asian       81.1  20.1            0   \n",
       "\n",
       "       UrAlbCr  UricAcid  BloodGlucose  HDL  Triglycerides MetabolicSyndrome  \n",
       "seqn                                                                          \n",
       "62161     3.88       4.9            92   41             84         No MetSyn  \n",
       "62164     8.55       4.5            82   28             56         No MetSyn  \n",
       "62169     5.07       5.4           107   43             78         No MetSyn  \n",
       "62172     5.22       5.0           104   73            141         No MetSyn  \n",
       "62177     8.13       5.0            95   43            126         No MetSyn  "
      ]
     },
     "execution_count": 4,
     "metadata": {},
     "output_type": "execute_result"
    }
   ],
   "source": [
    "df.head()"
   ]
  },
  {
   "cell_type": "markdown",
   "metadata": {},
   "source": [
    "Now we determine **CATEGORICAL** and **NUMERICAL** variables, that will be used for predictions."
   ]
  },
  {
   "cell_type": "code",
   "execution_count": 7,
   "metadata": {},
   "outputs": [
    {
     "name": "stdout",
     "output_type": "stream",
     "text": [
      "There are 4 categorical variables\n",
      "\n",
      "The categorical variables are :\n",
      "\n",
      " ['Sex', 'Marital', 'Race', 'MetabolicSyndrome']\n"
     ]
    }
   ],
   "source": [
    "categorical = [var for var in df.columns if df[var].dtype=='O']\n",
    "\n",
    "print('There are {} categorical variables\\n'.format(len(categorical)))\n",
    "\n",
    "print('The categorical variables are :\\n\\n', categorical)"
   ]
  },
  {
   "cell_type": "code",
   "execution_count": 8,
   "metadata": {},
   "outputs": [
    {
     "name": "stdout",
     "output_type": "stream",
     "text": [
      "Frequency counts of values in Categorical Variables\n",
      "Female    1211\n",
      "Male      1190\n",
      "Name: Sex, dtype: int64\n",
      "Married      1192\n",
      "Single        498\n",
      "Divorced      242\n",
      "Widowed       166\n",
      "Separated      95\n",
      "Name: Marital, dtype: int64\n",
      "White          933\n",
      "Black          548\n",
      "Asian          349\n",
      "Hispanic       257\n",
      "MexAmerican    253\n",
      "Other           61\n",
      "Name: Race, dtype: int64\n",
      "No MetSyn    1579\n",
      "MetSyn        822\n",
      "Name: MetabolicSyndrome, dtype: int64\n"
     ]
    }
   ],
   "source": [
    "print('Frequency counts of values in Categorical Variables')\n",
    "for var in categorical: \n",
    "    \n",
    "    print(df[var].value_counts())"
   ]
  },
  {
   "cell_type": "code",
   "execution_count": 10,
   "metadata": {},
   "outputs": [
    {
     "name": "stdout",
     "output_type": "stream",
     "text": [
      "Frequency distribution of Categorical Variables\n",
      "Female    0.504373\n",
      "Male      0.495627\n",
      "Name: Sex, dtype: float64\n",
      "Married      0.496460\n",
      "Single       0.207414\n",
      "Divorced     0.100791\n",
      "Widowed      0.069138\n",
      "Separated    0.039567\n",
      "Name: Marital, dtype: float64\n",
      "White          0.388588\n",
      "Black          0.228238\n",
      "Asian          0.145356\n",
      "Hispanic       0.107039\n",
      "MexAmerican    0.105373\n",
      "Other          0.025406\n",
      "Name: Race, dtype: float64\n",
      "No MetSyn    0.657643\n",
      "MetSyn       0.342357\n",
      "Name: MetabolicSyndrome, dtype: float64\n"
     ]
    }
   ],
   "source": [
    "\n",
    "print('Frequency distribution of Categorical Variables')\n",
    "for var in categorical: \n",
    "    \n",
    "    print(df[var].value_counts()/float(len(df)))\n"
   ]
  },
  {
   "cell_type": "code",
   "execution_count": 9,
   "metadata": {},
   "outputs": [
    {
     "data": {
      "text/plain": [
       "Female    1211\n",
       "Male      1190\n",
       "Name: Sex, dtype: int64"
      ]
     },
     "execution_count": 9,
     "metadata": {},
     "output_type": "execute_result"
    }
   ],
   "source": [
    "#Cleaning the SEX attribute, determining whether the it has null values or not.\n",
    "df.Sex.unique()\n",
    "df.Sex.value_counts()"
   ]
  },
  {
   "cell_type": "code",
   "execution_count": 11,
   "metadata": {},
   "outputs": [],
   "source": [
    "# Replacing all ? values\n",
    "df['Sex'].replace('?', np.NaN, inplace=True)"
   ]
  },
  {
   "cell_type": "code",
   "execution_count": 12,
   "metadata": {},
   "outputs": [
    {
     "data": {
      "text/plain": [
       "Female    1211\n",
       "Male      1190\n",
       "Name: Sex, dtype: int64"
      ]
     },
     "execution_count": 12,
     "metadata": {},
     "output_type": "execute_result"
    }
   ],
   "source": [
    "df.Sex.value_counts()"
   ]
  },
  {
   "cell_type": "code",
   "execution_count": 10,
   "metadata": {},
   "outputs": [
    {
     "data": {
      "text/plain": [
       "Married      1192\n",
       "Single        498\n",
       "Divorced      242\n",
       "Widowed       166\n",
       "Separated      95\n",
       "Name: Marital, dtype: int64"
      ]
     },
     "execution_count": 10,
     "metadata": {},
     "output_type": "execute_result"
    }
   ],
   "source": [
    "#Cleaning the MARITAL attribute, determining whether the it has null values or not.\n",
    "df.Marital.unique()\n",
    "df.Marital.value_counts()\n"
   ]
  },
  {
   "cell_type": "code",
   "execution_count": 11,
   "metadata": {},
   "outputs": [],
   "source": [
    "df['Marital'].replace('?', np.NaN, inplace=True)"
   ]
  },
  {
   "cell_type": "code",
   "execution_count": 12,
   "metadata": {},
   "outputs": [
    {
     "data": {
      "text/plain": [
       "Married      1192\n",
       "Single        498\n",
       "Divorced      242\n",
       "Widowed       166\n",
       "Separated      95\n",
       "Name: Marital, dtype: int64"
      ]
     },
     "execution_count": 12,
     "metadata": {},
     "output_type": "execute_result"
    }
   ],
   "source": [
    "df.Marital.value_counts()"
   ]
  },
  {
   "cell_type": "code",
   "execution_count": 13,
   "metadata": {},
   "outputs": [
    {
     "data": {
      "text/plain": [
       "White          933\n",
       "Black          548\n",
       "Asian          349\n",
       "Hispanic       257\n",
       "MexAmerican    253\n",
       "Other           61\n",
       "Name: Race, dtype: int64"
      ]
     },
     "execution_count": 13,
     "metadata": {},
     "output_type": "execute_result"
    }
   ],
   "source": [
    "#Cleaning the RACE attribute, determining whether the it has null values or not.\n",
    "df.Race.unique()\n",
    "df.Race.value_counts()\n"
   ]
  },
  {
   "cell_type": "code",
   "execution_count": 14,
   "metadata": {},
   "outputs": [],
   "source": [
    "df['Race'].replace('?', np.NaN, inplace=True)"
   ]
  },
  {
   "cell_type": "code",
   "execution_count": 15,
   "metadata": {},
   "outputs": [
    {
     "data": {
      "text/plain": [
       "White          933\n",
       "Black          548\n",
       "Asian          349\n",
       "Hispanic       257\n",
       "MexAmerican    253\n",
       "Other           61\n",
       "Name: Race, dtype: int64"
      ]
     },
     "execution_count": 15,
     "metadata": {},
     "output_type": "execute_result"
    }
   ],
   "source": [
    "df.Race.value_counts()"
   ]
  },
  {
   "cell_type": "code",
   "execution_count": 13,
   "metadata": {},
   "outputs": [
    {
     "data": {
      "text/plain": [
       "No MetSyn    1579\n",
       "MetSyn        822\n",
       "Name: MetabolicSyndrome, dtype: int64"
      ]
     },
     "execution_count": 13,
     "metadata": {},
     "output_type": "execute_result"
    }
   ],
   "source": [
    "#Cleaning the METABOLICSYNDROME attribute, determining whether the it has null values or not.\n",
    "df.MetabolicSyndrome.unique()\n",
    "df.MetabolicSyndrome.value_counts()"
   ]
  },
  {
   "cell_type": "code",
   "execution_count": 15,
   "metadata": {},
   "outputs": [],
   "source": [
    "df['MetabolicSyndrome'].replace('?', np.NaN, inplace=True)"
   ]
  },
  {
   "cell_type": "code",
   "execution_count": 16,
   "metadata": {},
   "outputs": [
    {
     "data": {
      "text/plain": [
       "No MetSyn    1579\n",
       "MetSyn        822\n",
       "Name: MetabolicSyndrome, dtype: int64"
      ]
     },
     "execution_count": 16,
     "metadata": {},
     "output_type": "execute_result"
    }
   ],
   "source": [
    "df.MetabolicSyndrome.value_counts()"
   ]
  },
  {
   "cell_type": "code",
   "execution_count": 17,
   "metadata": {},
   "outputs": [
    {
     "data": {
      "text/plain": [
       "Sex                    0\n",
       "Marital              208\n",
       "Race                   0\n",
       "MetabolicSyndrome      0\n",
       "dtype: int64"
      ]
     },
     "execution_count": 17,
     "metadata": {},
     "output_type": "execute_result"
    }
   ],
   "source": [
    "df[categorical].isnull().sum()\n"
   ]
  },
  {
   "cell_type": "code",
   "execution_count": 18,
   "metadata": {},
   "outputs": [
    {
     "name": "stdout",
     "output_type": "stream",
     "text": [
      "Sex  contains  2  labels\n",
      "Marital  contains  6  labels\n",
      "Race  contains  6  labels\n",
      "MetabolicSyndrome  contains  2  labels\n"
     ]
    }
   ],
   "source": [
    "for var in categorical:\n",
    "    \n",
    "    print(var, ' contains ', len(df[var].unique()), ' labels')"
   ]
  },
  {
   "cell_type": "code",
   "execution_count": 19,
   "metadata": {},
   "outputs": [
    {
     "name": "stdout",
     "output_type": "stream",
     "text": [
      "There are 10 numerical variables\n",
      "\n",
      "The numerical variables are : ['Age', 'Income', 'WaistCirc', 'BMI', 'Albuminuria', 'UrAlbCr', 'UricAcid', 'BloodGlucose', 'HDL', 'Triglycerides']\n"
     ]
    }
   ],
   "source": [
    "# find numerical variables\n",
    "\n",
    "numerical = [var for var in df.columns if df[var].dtype!='O']\n",
    "\n",
    "print('There are {} numerical variables\\n'.format(len(numerical)))\n",
    "\n",
    "print('The numerical variables are :', numerical)"
   ]
  },
  {
   "cell_type": "code",
   "execution_count": 20,
   "metadata": {},
   "outputs": [
    {
     "data": {
      "text/html": [
       "<div>\n",
       "<style scoped>\n",
       "    .dataframe tbody tr th:only-of-type {\n",
       "        vertical-align: middle;\n",
       "    }\n",
       "\n",
       "    .dataframe tbody tr th {\n",
       "        vertical-align: top;\n",
       "    }\n",
       "\n",
       "    .dataframe thead th {\n",
       "        text-align: right;\n",
       "    }\n",
       "</style>\n",
       "<table border=\"1\" class=\"dataframe\">\n",
       "  <thead>\n",
       "    <tr style=\"text-align: right;\">\n",
       "      <th></th>\n",
       "      <th>Age</th>\n",
       "      <th>Income</th>\n",
       "      <th>WaistCirc</th>\n",
       "      <th>BMI</th>\n",
       "      <th>Albuminuria</th>\n",
       "      <th>UrAlbCr</th>\n",
       "      <th>UricAcid</th>\n",
       "      <th>BloodGlucose</th>\n",
       "      <th>HDL</th>\n",
       "      <th>Triglycerides</th>\n",
       "    </tr>\n",
       "    <tr>\n",
       "      <th>seqn</th>\n",
       "      <th></th>\n",
       "      <th></th>\n",
       "      <th></th>\n",
       "      <th></th>\n",
       "      <th></th>\n",
       "      <th></th>\n",
       "      <th></th>\n",
       "      <th></th>\n",
       "      <th></th>\n",
       "      <th></th>\n",
       "    </tr>\n",
       "  </thead>\n",
       "  <tbody>\n",
       "    <tr>\n",
       "      <th>62161</th>\n",
       "      <td>22</td>\n",
       "      <td>8200.0</td>\n",
       "      <td>81.0</td>\n",
       "      <td>23.3</td>\n",
       "      <td>0</td>\n",
       "      <td>3.88</td>\n",
       "      <td>4.9</td>\n",
       "      <td>92</td>\n",
       "      <td>41</td>\n",
       "      <td>84</td>\n",
       "    </tr>\n",
       "    <tr>\n",
       "      <th>62164</th>\n",
       "      <td>44</td>\n",
       "      <td>4500.0</td>\n",
       "      <td>80.1</td>\n",
       "      <td>23.2</td>\n",
       "      <td>0</td>\n",
       "      <td>8.55</td>\n",
       "      <td>4.5</td>\n",
       "      <td>82</td>\n",
       "      <td>28</td>\n",
       "      <td>56</td>\n",
       "    </tr>\n",
       "    <tr>\n",
       "      <th>62169</th>\n",
       "      <td>21</td>\n",
       "      <td>800.0</td>\n",
       "      <td>69.6</td>\n",
       "      <td>20.1</td>\n",
       "      <td>0</td>\n",
       "      <td>5.07</td>\n",
       "      <td>5.4</td>\n",
       "      <td>107</td>\n",
       "      <td>43</td>\n",
       "      <td>78</td>\n",
       "    </tr>\n",
       "    <tr>\n",
       "      <th>62172</th>\n",
       "      <td>43</td>\n",
       "      <td>2000.0</td>\n",
       "      <td>120.4</td>\n",
       "      <td>33.3</td>\n",
       "      <td>0</td>\n",
       "      <td>5.22</td>\n",
       "      <td>5.0</td>\n",
       "      <td>104</td>\n",
       "      <td>73</td>\n",
       "      <td>141</td>\n",
       "    </tr>\n",
       "    <tr>\n",
       "      <th>62177</th>\n",
       "      <td>51</td>\n",
       "      <td>NaN</td>\n",
       "      <td>81.1</td>\n",
       "      <td>20.1</td>\n",
       "      <td>0</td>\n",
       "      <td>8.13</td>\n",
       "      <td>5.0</td>\n",
       "      <td>95</td>\n",
       "      <td>43</td>\n",
       "      <td>126</td>\n",
       "    </tr>\n",
       "  </tbody>\n",
       "</table>\n",
       "</div>"
      ],
      "text/plain": [
       "       Age  Income  WaistCirc   BMI  Albuminuria  UrAlbCr  UricAcid  \\\n",
       "seqn                                                                  \n",
       "62161   22  8200.0       81.0  23.3            0     3.88       4.9   \n",
       "62164   44  4500.0       80.1  23.2            0     8.55       4.5   \n",
       "62169   21   800.0       69.6  20.1            0     5.07       5.4   \n",
       "62172   43  2000.0      120.4  33.3            0     5.22       5.0   \n",
       "62177   51     NaN       81.1  20.1            0     8.13       5.0   \n",
       "\n",
       "       BloodGlucose  HDL  Triglycerides  \n",
       "seqn                                     \n",
       "62161            92   41             84  \n",
       "62164            82   28             56  \n",
       "62169           107   43             78  \n",
       "62172           104   73            141  \n",
       "62177            95   43            126  "
      ]
     },
     "execution_count": 20,
     "metadata": {},
     "output_type": "execute_result"
    }
   ],
   "source": [
    "df[numerical].head()"
   ]
  },
  {
   "cell_type": "code",
   "execution_count": 21,
   "metadata": {},
   "outputs": [
    {
     "data": {
      "text/plain": [
       "Age                0\n",
       "Income           117\n",
       "WaistCirc         85\n",
       "BMI               26\n",
       "Albuminuria        0\n",
       "UrAlbCr            0\n",
       "UricAcid           0\n",
       "BloodGlucose       0\n",
       "HDL                0\n",
       "Triglycerides      0\n",
       "dtype: int64"
      ]
     },
     "execution_count": 21,
     "metadata": {},
     "output_type": "execute_result"
    }
   ],
   "source": [
    "df[numerical].isnull().sum()\n"
   ]
  },
  {
   "cell_type": "code",
   "execution_count": 22,
   "metadata": {},
   "outputs": [
    {
     "data": {
      "text/plain": [
       "Age              0\n",
       "Income           0\n",
       "WaistCirc        0\n",
       "BMI              0\n",
       "Albuminuria      0\n",
       "UrAlbCr          0\n",
       "UricAcid         0\n",
       "BloodGlucose     0\n",
       "HDL              0\n",
       "Triglycerides    0\n",
       "dtype: int64"
      ]
     },
     "execution_count": 22,
     "metadata": {},
     "output_type": "execute_result"
    }
   ],
   "source": [
    "df['Income'] = df['Income'].replace(np.nan, 0)\n",
    "df['WaistCirc'] = df['WaistCirc'].replace(np.nan, 0)\n",
    "df['BMI'] = df['BMI'].replace(np.nan, 0)\n",
    "df[numerical].isnull().sum()"
   ]
  },
  {
   "cell_type": "code",
   "execution_count": 23,
   "metadata": {},
   "outputs": [],
   "source": [
    "# Separate columns by data type for analysis\n",
    "#numerical = [var for var in df.columns if df[var].dtype!='O']\n",
    "#categorical = [var for var in df.columns if df[var].dtype=='O']\n",
    "\n",
    "cat_cols = [var for var in df.columns if df[var].dtype=='O']\n",
    "num_cols = [var for var in df.columns if df[var].dtype!='O']\n",
    "assert len(cat_cols) + len(num_cols) == df.shape[1]"
   ]
  },
  {
   "cell_type": "code",
   "execution_count": 24,
   "metadata": {},
   "outputs": [
    {
     "name": "stdout",
     "output_type": "stream",
     "text": [
      "['Sex', 'Marital', 'Race']\n"
     ]
    }
   ],
   "source": [
    "cat_cols.remove('MetabolicSyndrome')\n",
    "print(cat_cols)"
   ]
  },
  {
   "cell_type": "code",
   "execution_count": 25,
   "metadata": {},
   "outputs": [
    {
     "data": {
      "text/html": [
       "<div>\n",
       "<style scoped>\n",
       "    .dataframe tbody tr th:only-of-type {\n",
       "        vertical-align: middle;\n",
       "    }\n",
       "\n",
       "    .dataframe tbody tr th {\n",
       "        vertical-align: top;\n",
       "    }\n",
       "\n",
       "    .dataframe thead th {\n",
       "        text-align: right;\n",
       "    }\n",
       "</style>\n",
       "<table border=\"1\" class=\"dataframe\">\n",
       "  <thead>\n",
       "    <tr style=\"text-align: right;\">\n",
       "      <th></th>\n",
       "      <th>Age</th>\n",
       "      <th>Sex</th>\n",
       "      <th>Marital</th>\n",
       "      <th>Income</th>\n",
       "      <th>Race</th>\n",
       "      <th>WaistCirc</th>\n",
       "      <th>BMI</th>\n",
       "      <th>Albuminuria</th>\n",
       "      <th>UrAlbCr</th>\n",
       "      <th>UricAcid</th>\n",
       "      <th>BloodGlucose</th>\n",
       "      <th>HDL</th>\n",
       "      <th>Triglycerides</th>\n",
       "    </tr>\n",
       "    <tr>\n",
       "      <th>seqn</th>\n",
       "      <th></th>\n",
       "      <th></th>\n",
       "      <th></th>\n",
       "      <th></th>\n",
       "      <th></th>\n",
       "      <th></th>\n",
       "      <th></th>\n",
       "      <th></th>\n",
       "      <th></th>\n",
       "      <th></th>\n",
       "      <th></th>\n",
       "      <th></th>\n",
       "      <th></th>\n",
       "    </tr>\n",
       "  </thead>\n",
       "  <tbody>\n",
       "    <tr>\n",
       "      <th>63236</th>\n",
       "      <td>80</td>\n",
       "      <td>Male</td>\n",
       "      <td>Divorced</td>\n",
       "      <td>1000.0</td>\n",
       "      <td>Hispanic</td>\n",
       "      <td>105.0</td>\n",
       "      <td>29.4</td>\n",
       "      <td>2</td>\n",
       "      <td>355.56</td>\n",
       "      <td>6.0</td>\n",
       "      <td>116</td>\n",
       "      <td>43</td>\n",
       "      <td>115</td>\n",
       "    </tr>\n",
       "    <tr>\n",
       "      <th>69343</th>\n",
       "      <td>20</td>\n",
       "      <td>Male</td>\n",
       "      <td>Single</td>\n",
       "      <td>9000.0</td>\n",
       "      <td>White</td>\n",
       "      <td>95.1</td>\n",
       "      <td>27.2</td>\n",
       "      <td>0</td>\n",
       "      <td>4.26</td>\n",
       "      <td>5.2</td>\n",
       "      <td>111</td>\n",
       "      <td>39</td>\n",
       "      <td>239</td>\n",
       "    </tr>\n",
       "    <tr>\n",
       "      <th>64789</th>\n",
       "      <td>67</td>\n",
       "      <td>Male</td>\n",
       "      <td>Married</td>\n",
       "      <td>9000.0</td>\n",
       "      <td>Black</td>\n",
       "      <td>120.3</td>\n",
       "      <td>30.9</td>\n",
       "      <td>0</td>\n",
       "      <td>3.38</td>\n",
       "      <td>7.0</td>\n",
       "      <td>127</td>\n",
       "      <td>52</td>\n",
       "      <td>94</td>\n",
       "    </tr>\n",
       "    <tr>\n",
       "      <th>66690</th>\n",
       "      <td>65</td>\n",
       "      <td>Male</td>\n",
       "      <td>Married</td>\n",
       "      <td>1600.0</td>\n",
       "      <td>MexAmerican</td>\n",
       "      <td>109.8</td>\n",
       "      <td>30.9</td>\n",
       "      <td>0</td>\n",
       "      <td>4.36</td>\n",
       "      <td>5.3</td>\n",
       "      <td>102</td>\n",
       "      <td>43</td>\n",
       "      <td>93</td>\n",
       "    </tr>\n",
       "    <tr>\n",
       "      <th>68065</th>\n",
       "      <td>20</td>\n",
       "      <td>Female</td>\n",
       "      <td>Single</td>\n",
       "      <td>1000.0</td>\n",
       "      <td>White</td>\n",
       "      <td>82.5</td>\n",
       "      <td>25.3</td>\n",
       "      <td>0</td>\n",
       "      <td>5.93</td>\n",
       "      <td>4.5</td>\n",
       "      <td>92</td>\n",
       "      <td>41</td>\n",
       "      <td>128</td>\n",
       "    </tr>\n",
       "  </tbody>\n",
       "</table>\n",
       "</div>"
      ],
      "text/plain": [
       "       Age     Sex   Marital  Income         Race  WaistCirc   BMI  \\\n",
       "seqn                                                                 \n",
       "63236   80    Male  Divorced  1000.0     Hispanic      105.0  29.4   \n",
       "69343   20    Male    Single  9000.0        White       95.1  27.2   \n",
       "64789   67    Male   Married  9000.0        Black      120.3  30.9   \n",
       "66690   65    Male   Married  1600.0  MexAmerican      109.8  30.9   \n",
       "68065   20  Female    Single  1000.0        White       82.5  25.3   \n",
       "\n",
       "       Albuminuria  UrAlbCr  UricAcid  BloodGlucose  HDL  Triglycerides  \n",
       "seqn                                                                     \n",
       "63236            2   355.56       6.0           116   43            115  \n",
       "69343            0     4.26       5.2           111   39            239  \n",
       "64789            0     3.38       7.0           127   52             94  \n",
       "66690            0     4.36       5.3           102   43             93  \n",
       "68065            0     5.93       4.5            92   41            128  "
      ]
     },
     "execution_count": 25,
     "metadata": {},
     "output_type": "execute_result"
    }
   ],
   "source": [
    "from sklearn.model_selection import train_test_split\n",
    "X, y = df.dropna().drop(['MetabolicSyndrome'], axis=1), df.dropna()['MetabolicSyndrome']\n",
    "\n",
    "X_train, X_test, y_train, y_test = train_test_split(X, y, test_size = 0.2, random_state =13)\n",
    "X_train.shape, X_test.shape\n",
    "X_train.head()\n"
   ]
  },
  {
   "cell_type": "code",
   "execution_count": 26,
   "metadata": {},
   "outputs": [
    {
     "data": {
      "application/vnd.jupyter.widget-view+json": {
       "model_id": "ee19a0f66ad54292b80bafb6ca584a38",
       "version_major": 2,
       "version_minor": 0
      },
      "text/plain": [
       "MetricVisualizer(layout=Layout(align_self='stretch', height='500px'))"
      ]
     },
     "metadata": {},
     "output_type": "display_data"
    },
    {
     "name": "stdout",
     "output_type": "stream",
     "text": [
      "Learning rate set to 0.018077\n",
      "0:\tlearn: 0.6755342\ttest: 0.6763908\tbest: 0.6763908 (0)\ttotal: 193ms\tremaining: 16m 6s\n",
      "50:\tlearn: 0.3248273\ttest: 0.3520611\tbest: 0.3520611 (50)\ttotal: 1.34s\tremaining: 2m 10s\n",
      "100:\tlearn: 0.2610080\ttest: 0.3019089\tbest: 0.3019089 (100)\ttotal: 2.4s\tremaining: 1m 56s\n",
      "150:\tlearn: 0.2298860\ttest: 0.2802603\tbest: 0.2802603 (150)\ttotal: 3.62s\tremaining: 1m 56s\n",
      "200:\tlearn: 0.2150166\ttest: 0.2732349\tbest: 0.2732349 (200)\ttotal: 4.86s\tremaining: 1m 56s\n",
      "250:\tlearn: 0.2039187\ttest: 0.2687043\tbest: 0.2687043 (250)\ttotal: 6s\tremaining: 1m 53s\n",
      "300:\tlearn: 0.1949248\ttest: 0.2646383\tbest: 0.2644539 (297)\ttotal: 7.21s\tremaining: 1m 52s\n",
      "350:\tlearn: 0.1864380\ttest: 0.2610587\tbest: 0.2610587 (350)\ttotal: 8.41s\tremaining: 1m 51s\n",
      "400:\tlearn: 0.1788643\ttest: 0.2596967\tbest: 0.2596967 (400)\ttotal: 9.6s\tremaining: 1m 50s\n",
      "450:\tlearn: 0.1706461\ttest: 0.2567549\tbest: 0.2566582 (435)\ttotal: 10.9s\tremaining: 1m 49s\n",
      "Stopped by overfitting detector  (20 iterations wait)\n",
      "\n",
      "bestTest = 0.2554084777\n",
      "bestIteration = 477\n",
      "\n",
      "Shrink model to first 478 iterations.\n"
     ]
    },
    {
     "data": {
      "text/plain": [
       "<catboost.core.CatBoostClassifier at 0x19b39b3ff40>"
      ]
     },
     "execution_count": 26,
     "metadata": {},
     "output_type": "execute_result"
    }
   ],
   "source": [
    "# Specify index of categorical features in input data\n",
    "cat_features = [X.columns.get_loc(col) for col in cat_cols]\n",
    "\n",
    "# Model parameter dict\n",
    "params = {'iterations':5000,\n",
    "          'loss_function':'Logloss',\n",
    "          'depth':4,\n",
    "          'early_stopping_rounds':20,\n",
    "          'custom_loss':['AUC', 'Accuracy']}\n",
    "\n",
    "# Instantiate model\n",
    "model = CatBoostClassifier(**params)\n",
    "\n",
    "# Fit model\n",
    "model.fit(\n",
    "    X_train,\n",
    "    y_train,\n",
    "    cat_features=cat_features,\n",
    "    eval_set=(X_test, y_test),\n",
    "    verbose=50,\n",
    "    plot=True\n",
    ")"
   ]
  },
  {
   "cell_type": "code",
   "execution_count": 27,
   "metadata": {},
   "outputs": [],
   "source": [
    "# Make predictions on test data\n",
    "preds = model.predict(X_test)"
   ]
  },
  {
   "cell_type": "code",
   "execution_count": 28,
   "metadata": {},
   "outputs": [
    {
     "name": "stdout",
     "output_type": "stream",
     "text": [
      "              precision    recall  f1-score   support\n",
      "\n",
      "      MetSyn       0.85      0.79      0.82       163\n",
      "   No MetSyn       0.88      0.92      0.90       276\n",
      "\n",
      "    accuracy                           0.87       439\n",
      "   macro avg       0.87      0.85      0.86       439\n",
      "weighted avg       0.87      0.87      0.87       439\n",
      "\n",
      "[[129  34]\n",
      " [ 23 253]]\n"
     ]
    }
   ],
   "source": [
    "# Evaluate predictions\n",
    "print(classification_report(y_test, preds))\n",
    "print(confusion_matrix(y_test, preds))"
   ]
  },
  {
   "cell_type": "code",
   "execution_count": 31,
   "metadata": {},
   "outputs": [
    {
     "data": {
      "text/plain": [
       "<AxesSubplot:xlabel='importance', ylabel='feature'>"
      ]
     },
     "execution_count": 31,
     "metadata": {},
     "output_type": "execute_result"
    },
    {
     "data": {
      "image/png": "[encoded data removed]",
      "text/plain": [
       "<Figure size 720x432 with 1 Axes>"
      ]
     },
     "metadata": {
      "needs_background": "light"
     },
     "output_type": "display_data"
    }
   ],
   "source": [
    "# Showing the most important features for predicting Metabolic Syndrome.\n",
    "\n",
    "fig,ax = plt.subplots(figsize=(10,6))\n",
    "feature_importance_data = pd.DataFrame({'feature':model.feature_names_, 'importance':model.feature_importances_})\n",
    "feature_importance_data.sort_values('importance', ascending=False, inplace=True)\n",
    "sns.barplot(x='importance', y='feature', data=feature_importance_data)"
   ]
  },
  {
   "cell_type": "code",
   "execution_count": 32,
   "metadata": {},
   "outputs": [],
   "source": [
    "def classification_objective(trial):\n",
    "\n",
    "    params = {\n",
    "        \"loss_function\":\"Logloss\",\n",
    "        'custom_loss':['Accuracy'],\n",
    "        \"l2_leaf_reg\": trial.suggest_loguniform(\"l2_leaf_reg\", 1e-2, 1e0),\n",
    "        \"colsample_bylevel\": trial.suggest_float(\"colsample_bylevel\", 0.01, 1),\n",
    "        \"depth\": trial.suggest_int(\"depth\", 1, 10),\n",
    "        \"boosting_type\": trial.suggest_categorical(\"boosting_type\", [\"Ordered\", \"Plain\"]),\n",
    "        \"bootstrap_type\": trial.suggest_categorical(\"bootstrap_type\", [\"Bayesian\", \"Bernoulli\", \"MVS\"]),\n",
    "        \"min_data_in_leaf\": trial.suggest_int(\"min_data_in_leaf\", 2, 20),\n",
    "        \"one_hot_max_size\": trial.suggest_int(\"one_hot_max_size\", 2, 20)}\n",
    "    \n",
    "    if params[\"bootstrap_type\"] == \"Bayesian\":\n",
    "        \n",
    "        params[\"bagging_temperature\"] = trial.suggest_float(\"bagging_temperature\", 0, 10)\n",
    "        \n",
    "    elif params[\"bootstrap_type\"] == \"Bernoulli\":\n",
    "        \n",
    "        params[\"subsample\"] = trial.suggest_float(\"subsample\", 0.1, 1)\n",
    "\n",
    "    cv_data = cv(\n",
    "    params = params,\n",
    "    pool = Pool(X, label=y, cat_features=cat_features),\n",
    "    fold_count=5,\n",
    "    shuffle=True,\n",
    "    partition_random_seed=0,\n",
    "    plot=False,\n",
    "    stratified=False,\n",
    "    verbose=False)\n",
    "    \n",
    "    return cv_data['test-Accuracy-mean'].values[-1]\n"
   ]
  },
  {
   "cell_type": "code",
   "execution_count": 41,
   "metadata": {},
   "outputs": [
    {
     "name": "stderr",
     "output_type": "stream",
     "text": [
      "\u001b[32m[I 2022-07-10 17:14:13,564]\u001b[0m A new study created in memory with name: no-name-499728e0-9347-49b3-ba66-c41ed985f92b\u001b[0m\n"
     ]
    },
    {
     "name": "stdout",
     "output_type": "stream",
     "text": [
      "Training on fold [0/5]\n",
      "\n",
      "bestTest = 0.218695289\n",
      "bestIteration = 963\n",
      "\n",
      "Training on fold [1/5]\n",
      "\n",
      "bestTest = 0.2027781405\n",
      "bestIteration = 818\n",
      "\n",
      "Training on fold [2/5]\n",
      "\n",
      "bestTest = 0.2083035523\n",
      "bestIteration = 902\n",
      "\n",
      "Training on fold [3/5]\n",
      "\n",
      "bestTest = 0.2479399651\n",
      "bestIteration = 617\n",
      "\n",
      "Training on fold [4/5]\n",
      "\n",
      "bestTest = 0.2105445264\n",
      "bestIteration = 779\n",
      "\n"
     ]
    },
    {
     "name": "stderr",
     "output_type": "stream",
     "text": [
      "\u001b[32m[I 2022-07-10 17:14:23,285]\u001b[0m Trial 0 finished with value: 0.8928417636596249 and parameters: {'l2_leaf_reg': 0.09687128529805306, 'colsample_bylevel': 0.3531859285185264, 'depth': 3, 'boosting_type': 'Plain', 'bootstrap_type': 'Bernoulli', 'min_data_in_leaf': 13, 'one_hot_max_size': 19, 'subsample': 0.9176985840319015}. Best is trial 0 with value: 0.8928417636596249.\u001b[0m\n"
     ]
    },
    {
     "name": "stdout",
     "output_type": "stream",
     "text": [
      "Training on fold [0/5]\n",
      "\n",
      "bestTest = 0.2175649867\n",
      "bestIteration = 199\n",
      "\n",
      "Training on fold [1/5]\n",
      "\n",
      "bestTest = 0.2037524921\n",
      "bestIteration = 304\n",
      "\n",
      "Training on fold [2/5]\n",
      "\n",
      "bestTest = 0.2045397196\n",
      "bestIteration = 435\n",
      "\n",
      "Training on fold [3/5]\n",
      "\n",
      "bestTest = 0.2522503075\n",
      "bestIteration = 128\n",
      "\n",
      "Training on fold [4/5]\n"
     ]
    },
    {
     "name": "stderr",
     "output_type": "stream",
     "text": [
      "\u001b[32m[I 2022-07-10 17:14:43,679]\u001b[0m Trial 1 finished with value: 0.8891939963179081 and parameters: {'l2_leaf_reg': 0.15079708766887476, 'colsample_bylevel': 0.953235814554415, 'depth': 6, 'boosting_type': 'Plain', 'bootstrap_type': 'MVS', 'min_data_in_leaf': 2, 'one_hot_max_size': 14}. Best is trial 0 with value: 0.8928417636596249.\u001b[0m\n"
     ]
    },
    {
     "name": "stdout",
     "output_type": "stream",
     "text": [
      "\n",
      "bestTest = 0.2135097206\n",
      "bestIteration = 284\n",
      "\n",
      "Training on fold [0/5]\n",
      "\n",
      "bestTest = 0.2567964402\n",
      "bestIteration = 997\n",
      "\n",
      "Training on fold [1/5]\n",
      "\n",
      "bestTest = 0.2426405164\n",
      "bestIteration = 999\n",
      "\n",
      "Training on fold [2/5]\n",
      "\n",
      "bestTest = 0.2606648241\n",
      "bestIteration = 998\n",
      "\n",
      "Training on fold [3/5]\n",
      "\n",
      "bestTest = 0.2767242905\n",
      "bestIteration = 912\n",
      "\n",
      "Training on fold [4/5]\n",
      "\n",
      "bestTest = 0.2580692505\n",
      "bestIteration = 988\n",
      "\n"
     ]
    },
    {
     "name": "stderr",
     "output_type": "stream",
     "text": [
      "\u001b[32m[I 2022-07-10 17:14:50,286]\u001b[0m Trial 2 finished with value: 0.8773312114498497 and parameters: {'l2_leaf_reg': 0.6510124958148155, 'colsample_bylevel': 0.10641018814363952, 'depth': 2, 'boosting_type': 'Plain', 'bootstrap_type': 'Bernoulli', 'min_data_in_leaf': 8, 'one_hot_max_size': 7, 'subsample': 0.32605933549435373}. Best is trial 0 with value: 0.8928417636596249.\u001b[0m\n"
     ]
    },
    {
     "name": "stdout",
     "output_type": "stream",
     "text": [
      "Training on fold [0/5]\n",
      "\n",
      "bestTest = 0.2299133238\n",
      "bestIteration = 154\n",
      "\n",
      "Training on fold [1/5]\n",
      "\n",
      "bestTest = 0.2098068556\n",
      "bestIteration = 206\n",
      "\n",
      "Training on fold [2/5]\n",
      "\n",
      "bestTest = 0.2193183356\n",
      "bestIteration = 299\n",
      "\n",
      "Training on fold [3/5]\n",
      "\n",
      "bestTest = 0.2559081392\n",
      "bestIteration = 176\n",
      "\n",
      "Training on fold [4/5]\n"
     ]
    },
    {
     "name": "stderr",
     "output_type": "stream",
     "text": [
      "\u001b[32m[I 2022-07-10 17:15:35,017]\u001b[0m Trial 3 finished with value: 0.8882786740308506 and parameters: {'l2_leaf_reg': 0.43492818097362645, 'colsample_bylevel': 0.4666223967007425, 'depth': 8, 'boosting_type': 'Plain', 'bootstrap_type': 'Bernoulli', 'min_data_in_leaf': 3, 'one_hot_max_size': 12, 'subsample': 0.8453009488701657}. Best is trial 0 with value: 0.8928417636596249.\u001b[0m\n"
     ]
    },
    {
     "name": "stdout",
     "output_type": "stream",
     "text": [
      "\n",
      "bestTest = 0.2152282119\n",
      "bestIteration = 200\n",
      "\n",
      "Training on fold [0/5]\n",
      "\n",
      "bestTest = 0.2984093892\n",
      "bestIteration = 550\n",
      "\n",
      "Training on fold [1/5]\n",
      "\n",
      "bestTest = 0.2736476095\n",
      "bestIteration = 734\n",
      "\n",
      "Training on fold [2/5]\n",
      "\n",
      "bestTest = 0.2875619427\n",
      "bestIteration = 738\n",
      "\n",
      "Training on fold [3/5]\n",
      "\n",
      "bestTest = 0.3034170431\n",
      "bestIteration = 232\n",
      "\n",
      "Training on fold [4/5]\n"
     ]
    },
    {
     "name": "stderr",
     "output_type": "stream",
     "text": [
      "\u001b[32m[I 2022-07-10 17:16:35,464]\u001b[0m Trial 4 finished with value: 0.8663889495636617 and parameters: {'l2_leaf_reg': 0.1666868564924356, 'colsample_bylevel': 0.26540980504889305, 'depth': 8, 'boosting_type': 'Ordered', 'bootstrap_type': 'Bayesian', 'min_data_in_leaf': 8, 'one_hot_max_size': 17, 'bagging_temperature': 9.530323654055499}. Best is trial 0 with value: 0.8928417636596249.\u001b[0m\n"
     ]
    },
    {
     "name": "stdout",
     "output_type": "stream",
     "text": [
      "\n",
      "bestTest = 0.2846857119\n",
      "bestIteration = 606\n",
      "\n",
      "Training on fold [0/5]\n",
      "\n",
      "bestTest = 0.2332609964\n",
      "bestIteration = 268\n",
      "\n",
      "Training on fold [1/5]\n",
      "\n",
      "bestTest = 0.2152904902\n",
      "bestIteration = 391\n",
      "\n",
      "Training on fold [2/5]\n",
      "\n",
      "bestTest = 0.2159170186\n",
      "bestIteration = 574\n",
      "\n",
      "Training on fold [3/5]\n",
      "\n",
      "bestTest = 0.255395052\n",
      "bestIteration = 193\n",
      "\n",
      "Training on fold [4/5]\n"
     ]
    },
    {
     "name": "stderr",
     "output_type": "stream",
     "text": [
      "\u001b[32m[I 2022-07-10 17:17:00,421]\u001b[0m Trial 5 finished with value: 0.8896474969055866 and parameters: {'l2_leaf_reg': 0.8643638945226458, 'colsample_bylevel': 0.38214196910651865, 'depth': 7, 'boosting_type': 'Plain', 'bootstrap_type': 'Bernoulli', 'min_data_in_leaf': 20, 'one_hot_max_size': 18, 'subsample': 0.6563700966484135}. Best is trial 0 with value: 0.8928417636596249.\u001b[0m\n"
     ]
    },
    {
     "name": "stdout",
     "output_type": "stream",
     "text": [
      "\n",
      "bestTest = 0.2205725145\n",
      "bestIteration = 574\n",
      "\n",
      "Training on fold [0/5]\n",
      "\n",
      "bestTest = 0.2839419334\n",
      "bestIteration = 112\n",
      "\n",
      "Training on fold [1/5]\n",
      "\n",
      "bestTest = 0.273019132\n",
      "bestIteration = 92\n",
      "\n",
      "Training on fold [2/5]\n",
      "\n",
      "bestTest = 0.2781783502\n",
      "bestIteration = 154\n",
      "\n",
      "Training on fold [3/5]\n",
      "\n",
      "bestTest = 0.3048124466\n",
      "bestIteration = 77\n",
      "\n",
      "Training on fold [4/5]\n"
     ]
    },
    {
     "name": "stderr",
     "output_type": "stream",
     "text": [
      "\u001b[32m[I 2022-07-10 17:17:57,148]\u001b[0m Trial 6 finished with value: 0.8736865645250205 and parameters: {'l2_leaf_reg': 0.4792022711895028, 'colsample_bylevel': 0.438446706013852, 'depth': 10, 'boosting_type': 'Plain', 'bootstrap_type': 'Bayesian', 'min_data_in_leaf': 12, 'one_hot_max_size': 16, 'bagging_temperature': 6.6677485002321415}. Best is trial 0 with value: 0.8928417636596249.\u001b[0m\n"
     ]
    },
    {
     "name": "stdout",
     "output_type": "stream",
     "text": [
      "\n",
      "bestTest = 0.2761125837\n",
      "bestIteration = 114\n",
      "\n",
      "Training on fold [0/5]\n",
      "\n",
      "bestTest = 0.2200880969\n",
      "bestIteration = 480\n",
      "\n",
      "Training on fold [1/5]\n",
      "\n",
      "bestTest = 0.1928882823\n",
      "bestIteration = 415\n",
      "\n",
      "Training on fold [2/5]\n",
      "\n",
      "bestTest = 0.2149760304\n",
      "bestIteration = 690\n",
      "\n",
      "Training on fold [3/5]\n",
      "\n",
      "bestTest = 0.2525619751\n",
      "bestIteration = 211\n",
      "\n",
      "Training on fold [4/5]\n"
     ]
    },
    {
     "name": "stderr",
     "output_type": "stream",
     "text": [
      "\u001b[32m[I 2022-07-10 17:20:23,567]\u001b[0m Trial 7 finished with value: 0.8869056906002643 and parameters: {'l2_leaf_reg': 0.31027450471120316, 'colsample_bylevel': 0.5472602141095148, 'depth': 9, 'boosting_type': 'Ordered', 'bootstrap_type': 'MVS', 'min_data_in_leaf': 13, 'one_hot_max_size': 15}. Best is trial 0 with value: 0.8928417636596249.\u001b[0m\n"
     ]
    },
    {
     "name": "stdout",
     "output_type": "stream",
     "text": [
      "\n",
      "bestTest = 0.2191304736\n",
      "bestIteration = 296\n",
      "\n",
      "Training on fold [0/5]\n",
      "\n",
      "bestTest = 0.3154550625\n",
      "bestIteration = 999\n",
      "\n",
      "Training on fold [1/5]\n",
      "\n",
      "bestTest = 0.3003297254\n",
      "bestIteration = 999\n",
      "\n",
      "Training on fold [2/5]\n",
      "\n",
      "bestTest = 0.3305091125\n",
      "bestIteration = 999\n",
      "\n",
      "Training on fold [3/5]\n",
      "\n",
      "bestTest = 0.324886118\n",
      "bestIteration = 983\n",
      "\n",
      "Training on fold [4/5]\n",
      "\n",
      "bestTest = 0.310553374\n",
      "bestIteration = 999\n",
      "\n"
     ]
    },
    {
     "name": "stderr",
     "output_type": "stream",
     "text": [
      "\u001b[32m[I 2022-07-10 17:20:33,675]\u001b[0m Trial 8 finished with value: 0.8650190865499632 and parameters: {'l2_leaf_reg': 0.23306985895449484, 'colsample_bylevel': 0.02992591043175325, 'depth': 5, 'boosting_type': 'Plain', 'bootstrap_type': 'Bernoulli', 'min_data_in_leaf': 8, 'one_hot_max_size': 2, 'subsample': 0.11923558813517499}. Best is trial 0 with value: 0.8928417636596249.\u001b[0m\n"
     ]
    },
    {
     "name": "stdout",
     "output_type": "stream",
     "text": [
      "Training on fold [0/5]\n",
      "\n",
      "bestTest = 0.2302156711\n",
      "bestIteration = 374\n",
      "\n",
      "Training on fold [1/5]\n",
      "\n",
      "bestTest = 0.1928164329\n",
      "bestIteration = 671\n",
      "\n",
      "Training on fold [2/5]\n",
      "\n",
      "bestTest = 0.2208152248\n",
      "bestIteration = 983\n",
      "\n",
      "Training on fold [3/5]\n",
      "\n",
      "bestTest = 0.253470336\n",
      "bestIteration = 291\n",
      "\n",
      "Training on fold [4/5]\n"
     ]
    },
    {
     "name": "stderr",
     "output_type": "stream",
     "text": [
      "\u001b[32m[I 2022-07-10 17:21:06,552]\u001b[0m Trial 9 finished with value: 0.8923778616823206 and parameters: {'l2_leaf_reg': 0.010883227880699153, 'colsample_bylevel': 0.7468708825733583, 'depth': 4, 'boosting_type': 'Ordered', 'bootstrap_type': 'Bernoulli', 'min_data_in_leaf': 13, 'one_hot_max_size': 15, 'subsample': 0.8114924472341961}. Best is trial 0 with value: 0.8928417636596249.\u001b[0m\n"
     ]
    },
    {
     "name": "stdout",
     "output_type": "stream",
     "text": [
      "\n",
      "bestTest = 0.2220373364\n",
      "bestIteration = 573\n",
      "\n",
      "Training on fold [0/5]\n",
      "\n",
      "bestTest = 0.2181270933\n",
      "bestIteration = 995\n",
      "\n",
      "Training on fold [1/5]\n",
      "\n",
      "bestTest = 0.2112321044\n",
      "bestIteration = 916\n",
      "\n",
      "Training on fold [2/5]\n",
      "\n",
      "bestTest = 0.2167916537\n",
      "bestIteration = 990\n",
      "\n",
      "Training on fold [3/5]\n",
      "\n",
      "bestTest = 0.2502214278\n",
      "bestIteration = 886\n",
      "\n",
      "Training on fold [4/5]\n",
      "\n",
      "bestTest = 0.2191995742\n",
      "bestIteration = 977\n",
      "\n"
     ]
    },
    {
     "name": "stderr",
     "output_type": "stream",
     "text": [
      "\u001b[32m[I 2022-07-10 17:21:14,262]\u001b[0m Trial 10 finished with value: 0.8905565783588687 and parameters: {'l2_leaf_reg': 0.04500603880329277, 'colsample_bylevel': 0.6603649788283947, 'depth': 2, 'boosting_type': 'Plain', 'bootstrap_type': 'Bayesian', 'min_data_in_leaf': 18, 'one_hot_max_size': 20, 'bagging_temperature': 0.4510334501956512}. Best is trial 0 with value: 0.8928417636596249.\u001b[0m\n"
     ]
    },
    {
     "name": "stdout",
     "output_type": "stream",
     "text": [
      "Training on fold [0/5]\n",
      "\n",
      "bestTest = 0.2299754074\n",
      "bestIteration = 922\n",
      "\n",
      "Training on fold [1/5]\n",
      "\n",
      "bestTest = 0.1959121\n",
      "bestIteration = 885\n",
      "\n",
      "Training on fold [2/5]\n",
      "\n",
      "bestTest = 0.2204816337\n",
      "bestIteration = 415\n",
      "\n",
      "Training on fold [3/5]\n",
      "\n",
      "bestTest = 0.2482426176\n",
      "bestIteration = 339\n",
      "\n",
      "Training on fold [4/5]\n"
     ]
    },
    {
     "name": "stderr",
     "output_type": "stream",
     "text": [
      "\u001b[32m[I 2022-07-10 17:21:44,392]\u001b[0m Trial 11 finished with value: 0.8859903683132065 and parameters: {'l2_leaf_reg': 0.013303198776145251, 'colsample_bylevel': 0.7691794457599939, 'depth': 4, 'boosting_type': 'Ordered', 'bootstrap_type': 'Bernoulli', 'min_data_in_leaf': 15, 'one_hot_max_size': 10, 'subsample': 0.9801897936067219}. Best is trial 0 with value: 0.8928417636596249.\u001b[0m\n"
     ]
    },
    {
     "name": "stdout",
     "output_type": "stream",
     "text": [
      "\n",
      "bestTest = 0.2384322037\n",
      "bestIteration = 338\n",
      "\n",
      "Training on fold [0/5]\n",
      "\n",
      "bestTest = 0.2321046873\n",
      "bestIteration = 672\n",
      "\n",
      "Training on fold [1/5]\n",
      "\n",
      "bestTest = 0.2011802731\n",
      "bestIteration = 935\n",
      "\n",
      "Training on fold [2/5]\n",
      "\n",
      "bestTest = 0.2097133071\n",
      "bestIteration = 964\n",
      "\n",
      "Training on fold [3/5]\n",
      "\n",
      "bestTest = 0.2458028525\n",
      "bestIteration = 314\n",
      "\n",
      "Training on fold [4/5]\n"
     ]
    },
    {
     "name": "stderr",
     "output_type": "stream",
     "text": [
      "\u001b[32m[I 2022-07-10 17:22:13,381]\u001b[0m Trial 12 finished with value: 0.8841711652676796 and parameters: {'l2_leaf_reg': 0.05157852826669076, 'colsample_bylevel': 0.8199736281479689, 'depth': 4, 'boosting_type': 'Ordered', 'bootstrap_type': 'Bernoulli', 'min_data_in_leaf': 16, 'one_hot_max_size': 20, 'subsample': 0.733708242446821}. Best is trial 0 with value: 0.8928417636596249.\u001b[0m\n"
     ]
    },
    {
     "name": "stdout",
     "output_type": "stream",
     "text": [
      "\n",
      "bestTest = 0.2262401752\n",
      "bestIteration = 487\n",
      "\n",
      "Training on fold [0/5]\n",
      "\n",
      "bestTest = 0.2530696031\n",
      "bestIteration = 992\n",
      "\n",
      "Training on fold [1/5]\n",
      "\n",
      "bestTest = 0.2417979167\n",
      "bestIteration = 999\n",
      "\n",
      "Training on fold [2/5]\n",
      "\n",
      "bestTest = 0.2582836034\n",
      "bestIteration = 996\n",
      "\n",
      "Training on fold [3/5]\n",
      "\n",
      "bestTest = 0.2855180098\n",
      "bestIteration = 983\n",
      "\n",
      "Training on fold [4/5]\n",
      "\n",
      "bestTest = 0.2559529962\n",
      "bestIteration = 979\n",
      "\n"
     ]
    },
    {
     "name": "stderr",
     "output_type": "stream",
     "text": [
      "\u001b[32m[I 2022-07-10 17:22:26,653]\u001b[0m Trial 13 finished with value: 0.8745894051445273 and parameters: {'l2_leaf_reg': 0.010665772736823313, 'colsample_bylevel': 0.23478973201883946, 'depth': 1, 'boosting_type': 'Ordered', 'bootstrap_type': 'Bernoulli', 'min_data_in_leaf': 11, 'one_hot_max_size': 12, 'subsample': 0.9274819733364559}. Best is trial 0 with value: 0.8928417636596249.\u001b[0m\n"
     ]
    },
    {
     "name": "stdout",
     "output_type": "stream",
     "text": [
      "Training on fold [0/5]\n",
      "\n",
      "bestTest = 0.2314439584\n",
      "bestIteration = 992\n",
      "\n",
      "Training on fold [1/5]\n",
      "\n",
      "bestTest = 0.2050566626\n",
      "bestIteration = 975\n",
      "\n",
      "Training on fold [2/5]\n",
      "\n",
      "bestTest = 0.2218713364\n",
      "bestIteration = 968\n",
      "\n",
      "Training on fold [3/5]\n",
      "\n",
      "bestTest = 0.2581159965\n",
      "bestIteration = 550\n",
      "\n",
      "Training on fold [4/5]\n"
     ]
    },
    {
     "name": "stderr",
     "output_type": "stream",
     "text": [
      "\u001b[32m[I 2022-07-10 17:22:47,439]\u001b[0m Trial 14 finished with value: 0.8910163197803225 and parameters: {'l2_leaf_reg': 0.026170958320074354, 'colsample_bylevel': 0.6125990009390847, 'depth': 3, 'boosting_type': 'Ordered', 'bootstrap_type': 'Bernoulli', 'min_data_in_leaf': 10, 'one_hot_max_size': 8, 'subsample': 0.5334330183237629}. Best is trial 0 with value: 0.8928417636596249.\u001b[0m\n"
     ]
    },
    {
     "name": "stdout",
     "output_type": "stream",
     "text": [
      "\n",
      "bestTest = 0.2213328287\n",
      "bestIteration = 979\n",
      "\n",
      "Training on fold [0/5]\n",
      "\n",
      "bestTest = 0.2248323082\n",
      "bestIteration = 486\n",
      "\n",
      "Training on fold [1/5]\n",
      "\n",
      "bestTest = 0.1922190228\n",
      "bestIteration = 483\n",
      "\n",
      "Training on fold [2/5]\n",
      "\n",
      "bestTest = 0.2154425043\n",
      "bestIteration = 575\n",
      "\n",
      "Training on fold [3/5]\n",
      "\n",
      "bestTest = 0.2501289319\n",
      "bestIteration = 192\n",
      "\n",
      "Training on fold [4/5]\n"
     ]
    },
    {
     "name": "stderr",
     "output_type": "stream",
     "text": [
      "\u001b[32m[I 2022-07-10 17:23:17,642]\u001b[0m Trial 15 finished with value: 0.8818880602448488 and parameters: {'l2_leaf_reg': 0.07161468037200996, 'colsample_bylevel': 0.9746817449955733, 'depth': 5, 'boosting_type': 'Ordered', 'bootstrap_type': 'MVS', 'min_data_in_leaf': 15, 'one_hot_max_size': 18}. Best is trial 0 with value: 0.8928417636596249.\u001b[0m\n"
     ]
    },
    {
     "name": "stdout",
     "output_type": "stream",
     "text": [
      "\n",
      "bestTest = 0.2272419492\n",
      "bestIteration = 366\n",
      "\n",
      "Training on fold [0/5]\n",
      "\n",
      "bestTest = 0.2179795744\n",
      "bestIteration = 865\n",
      "\n",
      "Training on fold [1/5]\n",
      "\n",
      "bestTest = 0.206644959\n",
      "bestIteration = 789\n",
      "\n",
      "Training on fold [2/5]\n",
      "\n",
      "bestTest = 0.2040012418\n",
      "bestIteration = 999\n",
      "\n",
      "Training on fold [3/5]\n",
      "\n",
      "bestTest = 0.2432554374\n",
      "bestIteration = 574\n",
      "\n",
      "Training on fold [4/5]\n",
      "\n",
      "bestTest = 0.2105775806\n",
      "bestIteration = 886\n",
      "\n"
     ]
    },
    {
     "name": "stderr",
     "output_type": "stream",
     "text": [
      "\u001b[32m[I 2022-07-10 17:23:25,930]\u001b[0m Trial 16 finished with value: 0.8928407235206623 and parameters: {'l2_leaf_reg': 0.023985267647549956, 'colsample_bylevel': 0.7366160564651689, 'depth': 3, 'boosting_type': 'Plain', 'bootstrap_type': 'Bernoulli', 'min_data_in_leaf': 6, 'one_hot_max_size': 14, 'subsample': 0.8005597455817515}. Best is trial 0 with value: 0.8928417636596249.\u001b[0m\n"
     ]
    },
    {
     "name": "stdout",
     "output_type": "stream",
     "text": [
      "Training on fold [0/5]\n",
      "\n",
      "bestTest = 0.2547603238\n",
      "bestIteration = 997\n",
      "\n",
      "Training on fold [1/5]\n",
      "\n",
      "bestTest = 0.2458779536\n",
      "bestIteration = 999\n",
      "\n",
      "Training on fold [2/5]\n",
      "\n",
      "bestTest = 0.2635807695\n",
      "bestIteration = 995\n",
      "\n",
      "Training on fold [3/5]\n",
      "\n",
      "bestTest = 0.2853896595\n",
      "bestIteration = 986\n",
      "\n",
      "Training on fold [4/5]\n",
      "\n",
      "bestTest = 0.2585428447\n",
      "bestIteration = 880\n",
      "\n"
     ]
    },
    {
     "name": "stderr",
     "output_type": "stream",
     "text": [
      "\u001b[32m[I 2022-07-10 17:23:39,168]\u001b[0m Trial 17 finished with value: 0.8736761631353949 and parameters: {'l2_leaf_reg': 0.025360555199885167, 'colsample_bylevel': 0.3206951285969579, 'depth': 1, 'boosting_type': 'Plain', 'bootstrap_type': 'Bernoulli', 'min_data_in_leaf': 4, 'one_hot_max_size': 4, 'subsample': 0.5824397515639528}. Best is trial 0 with value: 0.8928417636596249.\u001b[0m\n"
     ]
    },
    {
     "name": "stdout",
     "output_type": "stream",
     "text": [
      "Training on fold [0/5]\n",
      "\n",
      "bestTest = 0.2168368499\n",
      "bestIteration = 960\n",
      "\n",
      "Training on fold [1/5]\n",
      "\n",
      "bestTest = 0.207877985\n",
      "bestIteration = 967\n",
      "\n",
      "Training on fold [2/5]\n",
      "\n",
      "bestTest = 0.2088748554\n",
      "bestIteration = 982\n",
      "\n",
      "Training on fold [3/5]\n",
      "\n",
      "bestTest = 0.2609556168\n",
      "bestIteration = 889\n",
      "\n",
      "Training on fold [4/5]\n",
      "\n",
      "bestTest = 0.216975145\n",
      "bestIteration = 985\n",
      "\n"
     ]
    },
    {
     "name": "stderr",
     "output_type": "stream",
     "text": [
      "\u001b[32m[I 2022-07-10 17:23:46,800]\u001b[0m Trial 18 finished with value: 0.8919212406777547 and parameters: {'l2_leaf_reg': 0.10482455347914076, 'colsample_bylevel': 0.16701759373927083, 'depth': 3, 'boosting_type': 'Plain', 'bootstrap_type': 'MVS', 'min_data_in_leaf': 7, 'one_hot_max_size': 13}. Best is trial 0 with value: 0.8928417636596249.\u001b[0m\n"
     ]
    },
    {
     "name": "stdout",
     "output_type": "stream",
     "text": [
      "Training on fold [0/5]\n",
      "\n",
      "bestTest = 0.2099463268\n",
      "bestIteration = 753\n",
      "\n",
      "Training on fold [1/5]\n",
      "\n",
      "bestTest = 0.2028725191\n",
      "bestIteration = 783\n",
      "\n",
      "Training on fold [2/5]\n",
      "\n",
      "bestTest = 0.2023802787\n",
      "bestIteration = 914\n",
      "\n",
      "Training on fold [3/5]\n",
      "\n",
      "bestTest = 0.2394223868\n",
      "bestIteration = 465\n",
      "\n",
      "Training on fold [4/5]\n",
      "\n",
      "bestTest = 0.2099602264\n",
      "bestIteration = 586\n",
      "\n"
     ]
    },
    {
     "name": "stderr",
     "output_type": "stream",
     "text": [
      "\u001b[32m[I 2022-07-10 17:23:55,347]\u001b[0m Trial 19 finished with value: 0.8946588864272267 and parameters: {'l2_leaf_reg': 0.02749341416711339, 'colsample_bylevel': 0.8493028982345194, 'depth': 3, 'boosting_type': 'Plain', 'bootstrap_type': 'Bayesian', 'min_data_in_leaf': 6, 'one_hot_max_size': 19, 'bagging_temperature': 0.08411757657072627}. Best is trial 19 with value: 0.8946588864272267.\u001b[0m\n"
     ]
    },
    {
     "name": "stdout",
     "output_type": "stream",
     "text": [
      "Highest Accuracy: 0.8946588864272267\n",
      "Optimal Parameters:\n",
      "l2_leaf_reg:0.02749341416711339\n",
      "colsample_bylevel:0.8493028982345194\n",
      "depth:3\n",
      "boosting_type:Plain\n",
      "bootstrap_type:Bayesian\n",
      "min_data_in_leaf:6\n",
      "one_hot_max_size:19\n",
      "bagging_temperature:0.08411757657072627\n"
     ]
    }
   ],
   "source": [
    "classification_study = optuna.create_study(sampler=TPESampler(), direction=\"maximize\")\n",
    "classification_study.optimize(classification_objective, n_trials=20, timeout=600) \n",
    "trial = classification_study.best_trial\n",
    "\n",
    "print(f\"Highest Accuracy: {trial.value}\")\n",
    "print(\"Optimal Parameters:\")\n",
    "for key, val in trial.params.items():\n",
    "    print(f\"{key}:{val}\")"
   ]
  },
  {
   "cell_type": "code",
   "execution_count": 43,
   "metadata": {},
   "outputs": [
    {
     "data": {
      "text/plain": [
       "{'l2_leaf_reg': 0.02749341416711339,\n",
       " 'colsample_bylevel': 0.8493028982345194,\n",
       " 'depth': 3,\n",
       " 'boosting_type': 'Plain',\n",
       " 'bootstrap_type': 'Bayesian',\n",
       " 'min_data_in_leaf': 6,\n",
       " 'one_hot_max_size': 19,\n",
       " 'bagging_temperature': 0.08411757657072627}"
      ]
     },
     "execution_count": 43,
     "metadata": {},
     "output_type": "execute_result"
    }
   ],
   "source": [
    "trial.params\n"
   ]
  },
  {
   "cell_type": "code",
   "execution_count": 44,
   "metadata": {},
   "outputs": [
    {
     "name": "stdout",
     "output_type": "stream",
     "text": [
      "Training on fold [0/5]\n",
      "\n",
      "bestTest = 0.2099463268\n",
      "bestIteration = 753\n",
      "\n",
      "Training on fold [1/5]\n",
      "\n",
      "bestTest = 0.2028725191\n",
      "bestIteration = 783\n",
      "\n",
      "Training on fold [2/5]\n",
      "\n",
      "bestTest = 0.2023802787\n",
      "bestIteration = 914\n",
      "\n",
      "Training on fold [3/5]\n",
      "\n",
      "bestTest = 0.2394223868\n",
      "bestIteration = 465\n",
      "\n",
      "Training on fold [4/5]\n",
      "\n",
      "bestTest = 0.2099602264\n",
      "bestIteration = 586\n",
      "\n"
     ]
    },
    {
     "data": {
      "text/html": [
       "<div>\n",
       "<style scoped>\n",
       "    .dataframe tbody tr th:only-of-type {\n",
       "        vertical-align: middle;\n",
       "    }\n",
       "\n",
       "    .dataframe tbody tr th {\n",
       "        vertical-align: top;\n",
       "    }\n",
       "\n",
       "    .dataframe thead th {\n",
       "        text-align: right;\n",
       "    }\n",
       "</style>\n",
       "<table border=\"1\" class=\"dataframe\">\n",
       "  <thead>\n",
       "    <tr style=\"text-align: right;\">\n",
       "      <th></th>\n",
       "      <th>iterations</th>\n",
       "      <th>test-Logloss-mean</th>\n",
       "      <th>test-Logloss-std</th>\n",
       "      <th>train-Logloss-mean</th>\n",
       "      <th>train-Logloss-std</th>\n",
       "      <th>test-AUC-mean</th>\n",
       "      <th>test-AUC-std</th>\n",
       "      <th>test-Accuracy-mean</th>\n",
       "      <th>test-Accuracy-std</th>\n",
       "      <th>train-Accuracy-mean</th>\n",
       "      <th>train-Accuracy-std</th>\n",
       "    </tr>\n",
       "  </thead>\n",
       "  <tbody>\n",
       "    <tr>\n",
       "      <th>0</th>\n",
       "      <td>0</td>\n",
       "      <td>0.660361</td>\n",
       "      <td>0.005228</td>\n",
       "      <td>0.659457</td>\n",
       "      <td>0.005290</td>\n",
       "      <td>0.908143</td>\n",
       "      <td>0.016186</td>\n",
       "      <td>0.856358</td>\n",
       "      <td>0.014193</td>\n",
       "      <td>0.858983</td>\n",
       "      <td>0.002465</td>\n",
       "    </tr>\n",
       "    <tr>\n",
       "      <th>1</th>\n",
       "      <td>1</td>\n",
       "      <td>0.631844</td>\n",
       "      <td>0.008669</td>\n",
       "      <td>0.630448</td>\n",
       "      <td>0.008662</td>\n",
       "      <td>0.913694</td>\n",
       "      <td>0.017181</td>\n",
       "      <td>0.852246</td>\n",
       "      <td>0.017362</td>\n",
       "      <td>0.858071</td>\n",
       "      <td>0.002993</td>\n",
       "    </tr>\n",
       "    <tr>\n",
       "      <th>2</th>\n",
       "      <td>2</td>\n",
       "      <td>0.612234</td>\n",
       "      <td>0.008228</td>\n",
       "      <td>0.610139</td>\n",
       "      <td>0.008205</td>\n",
       "      <td>0.916149</td>\n",
       "      <td>0.012277</td>\n",
       "      <td>0.854532</td>\n",
       "      <td>0.015466</td>\n",
       "      <td>0.860123</td>\n",
       "      <td>0.002522</td>\n",
       "    </tr>\n",
       "    <tr>\n",
       "      <th>3</th>\n",
       "      <td>3</td>\n",
       "      <td>0.594593</td>\n",
       "      <td>0.011530</td>\n",
       "      <td>0.592046</td>\n",
       "      <td>0.011276</td>\n",
       "      <td>0.919862</td>\n",
       "      <td>0.010084</td>\n",
       "      <td>0.852246</td>\n",
       "      <td>0.014141</td>\n",
       "      <td>0.858072</td>\n",
       "      <td>0.007284</td>\n",
       "    </tr>\n",
       "    <tr>\n",
       "      <th>4</th>\n",
       "      <td>4</td>\n",
       "      <td>0.575437</td>\n",
       "      <td>0.009544</td>\n",
       "      <td>0.572665</td>\n",
       "      <td>0.008830</td>\n",
       "      <td>0.922711</td>\n",
       "      <td>0.011076</td>\n",
       "      <td>0.860008</td>\n",
       "      <td>0.011136</td>\n",
       "      <td>0.861378</td>\n",
       "      <td>0.004267</td>\n",
       "    </tr>\n",
       "    <tr>\n",
       "      <th>...</th>\n",
       "      <td>...</td>\n",
       "      <td>...</td>\n",
       "      <td>...</td>\n",
       "      <td>...</td>\n",
       "      <td>...</td>\n",
       "      <td>...</td>\n",
       "      <td>...</td>\n",
       "      <td>...</td>\n",
       "      <td>...</td>\n",
       "      <td>...</td>\n",
       "      <td>...</td>\n",
       "    </tr>\n",
       "    <tr>\n",
       "      <th>995</th>\n",
       "      <td>995</td>\n",
       "      <td>0.219028</td>\n",
       "      <td>0.019750</td>\n",
       "      <td>0.092824</td>\n",
       "      <td>0.001951</td>\n",
       "      <td>0.966795</td>\n",
       "      <td>0.006107</td>\n",
       "      <td>0.895116</td>\n",
       "      <td>0.012027</td>\n",
       "      <td>0.988144</td>\n",
       "      <td>0.002890</td>\n",
       "    </tr>\n",
       "    <tr>\n",
       "      <th>996</th>\n",
       "      <td>996</td>\n",
       "      <td>0.219097</td>\n",
       "      <td>0.019723</td>\n",
       "      <td>0.092758</td>\n",
       "      <td>0.001963</td>\n",
       "      <td>0.966777</td>\n",
       "      <td>0.006119</td>\n",
       "      <td>0.895116</td>\n",
       "      <td>0.012027</td>\n",
       "      <td>0.988144</td>\n",
       "      <td>0.002890</td>\n",
       "    </tr>\n",
       "    <tr>\n",
       "      <th>997</th>\n",
       "      <td>997</td>\n",
       "      <td>0.219188</td>\n",
       "      <td>0.019752</td>\n",
       "      <td>0.092682</td>\n",
       "      <td>0.001960</td>\n",
       "      <td>0.966777</td>\n",
       "      <td>0.006116</td>\n",
       "      <td>0.894660</td>\n",
       "      <td>0.012065</td>\n",
       "      <td>0.988030</td>\n",
       "      <td>0.002674</td>\n",
       "    </tr>\n",
       "    <tr>\n",
       "      <th>998</th>\n",
       "      <td>998</td>\n",
       "      <td>0.219173</td>\n",
       "      <td>0.019791</td>\n",
       "      <td>0.092594</td>\n",
       "      <td>0.001966</td>\n",
       "      <td>0.966786</td>\n",
       "      <td>0.006178</td>\n",
       "      <td>0.894660</td>\n",
       "      <td>0.012065</td>\n",
       "      <td>0.988258</td>\n",
       "      <td>0.002504</td>\n",
       "    </tr>\n",
       "    <tr>\n",
       "      <th>999</th>\n",
       "      <td>999</td>\n",
       "      <td>0.219365</td>\n",
       "      <td>0.019813</td>\n",
       "      <td>0.092497</td>\n",
       "      <td>0.001972</td>\n",
       "      <td>0.966764</td>\n",
       "      <td>0.006134</td>\n",
       "      <td>0.894659</td>\n",
       "      <td>0.011637</td>\n",
       "      <td>0.988258</td>\n",
       "      <td>0.002867</td>\n",
       "    </tr>\n",
       "  </tbody>\n",
       "</table>\n",
       "<p>1000 rows × 11 columns</p>\n",
       "</div>"
      ],
      "text/plain": [
       "     iterations  test-Logloss-mean  test-Logloss-std  train-Logloss-mean  \\\n",
       "0             0           0.660361          0.005228            0.659457   \n",
       "1             1           0.631844          0.008669            0.630448   \n",
       "2             2           0.612234          0.008228            0.610139   \n",
       "3             3           0.594593          0.011530            0.592046   \n",
       "4             4           0.575437          0.009544            0.572665   \n",
       "..          ...                ...               ...                 ...   \n",
       "995         995           0.219028          0.019750            0.092824   \n",
       "996         996           0.219097          0.019723            0.092758   \n",
       "997         997           0.219188          0.019752            0.092682   \n",
       "998         998           0.219173          0.019791            0.092594   \n",
       "999         999           0.219365          0.019813            0.092497   \n",
       "\n",
       "     train-Logloss-std  test-AUC-mean  test-AUC-std  test-Accuracy-mean  \\\n",
       "0             0.005290       0.908143      0.016186            0.856358   \n",
       "1             0.008662       0.913694      0.017181            0.852246   \n",
       "2             0.008205       0.916149      0.012277            0.854532   \n",
       "3             0.011276       0.919862      0.010084            0.852246   \n",
       "4             0.008830       0.922711      0.011076            0.860008   \n",
       "..                 ...            ...           ...                 ...   \n",
       "995           0.001951       0.966795      0.006107            0.895116   \n",
       "996           0.001963       0.966777      0.006119            0.895116   \n",
       "997           0.001960       0.966777      0.006116            0.894660   \n",
       "998           0.001966       0.966786      0.006178            0.894660   \n",
       "999           0.001972       0.966764      0.006134            0.894659   \n",
       "\n",
       "     test-Accuracy-std  train-Accuracy-mean  train-Accuracy-std  \n",
       "0             0.014193             0.858983            0.002465  \n",
       "1             0.017362             0.858071            0.002993  \n",
       "2             0.015466             0.860123            0.002522  \n",
       "3             0.014141             0.858072            0.007284  \n",
       "4             0.011136             0.861378            0.004267  \n",
       "..                 ...                  ...                 ...  \n",
       "995           0.012027             0.988144            0.002890  \n",
       "996           0.012027             0.988144            0.002890  \n",
       "997           0.012065             0.988030            0.002674  \n",
       "998           0.012065             0.988258            0.002504  \n",
       "999           0.011637             0.988258            0.002867  \n",
       "\n",
       "[1000 rows x 11 columns]"
      ]
     },
     "execution_count": 44,
     "metadata": {},
     "output_type": "execute_result"
    }
   ],
   "source": [
    "new_params = trial.params.copy()\n",
    "new_params['loss_function'] = 'Logloss'\n",
    "new_params['custom_loss'] = ['AUC','Accuracy']\n",
    "\n",
    "cv_data = cv(\n",
    "        params = new_params,\n",
    "        pool = Pool(X, label=y, cat_features=cat_features),\n",
    "        fold_count=5,\n",
    "        shuffle=True,\n",
    "        partition_random_seed=0,\n",
    "        plot=False,\n",
    "        stratified=False,\n",
    "        verbose=False)\n",
    "\n",
    "cv_data"
   ]
  },
  {
   "cell_type": "code",
   "execution_count": null,
   "metadata": {},
   "outputs": [],
   "source": []
  },
  {
   "cell_type": "code",
   "execution_count": 45,
   "metadata": {},
   "outputs": [
    {
     "name": "stdout",
     "output_type": "stream",
     "text": [
      "0:\tlearn: 0.6652475\ttotal: 1.38ms\tremaining: 588ms\n",
      "100:\tlearn: 0.2609961\ttotal: 164ms\tremaining: 529ms\n",
      "200:\tlearn: 0.2200611\ttotal: 302ms\tremaining: 339ms\n",
      "300:\tlearn: 0.1949189\ttotal: 454ms\tremaining: 190ms\n",
      "400:\tlearn: 0.1736908\ttotal: 576ms\tremaining: 37.4ms\n",
      "426:\tlearn: 0.1694156\ttotal: 639ms\tremaining: 0us\n"
     ]
    },
    {
     "data": {
      "text/plain": [
       "<catboost.core.CatBoostClassifier at 0x15a358a5cc0>"
      ]
     },
     "execution_count": 45,
     "metadata": {},
     "output_type": "execute_result"
    }
   ],
   "source": [
    "final_params = new_params.copy()\n",
    "final_params['iterations'] = np.argmax(cv_data['test-Accuracy-mean'])\n",
    "final_params['cat_features'] = cat_features\n",
    "\n",
    "final_model = CatBoostClassifier(**final_params)\n",
    "final_model.fit(X,y,verbose=100)"
   ]
  },
  {
   "cell_type": "code",
   "execution_count": 46,
   "metadata": {},
   "outputs": [],
   "source": [
    "# Exporting the model\n",
    "MODEL_STORAGE_PATH = 'models/'\n",
    "model_name = f'Metabolic_Syndrome_Predictor_Model'\n",
    "final_model.save_model(model_name)"
   ]
  },
  {
   "cell_type": "code",
   "execution_count": 47,
   "metadata": {},
   "outputs": [
    {
     "data": {
      "text/plain": [
       "['Age',\n",
       " 'Sex',\n",
       " 'Marital',\n",
       " 'Income',\n",
       " 'Race',\n",
       " 'WaistCirc',\n",
       " 'BMI',\n",
       " 'Albuminuria',\n",
       " 'UrAlbCr',\n",
       " 'UricAcid',\n",
       " 'BloodGlucose',\n",
       " 'HDL',\n",
       " 'Triglycerides']"
      ]
     },
     "execution_count": 47,
     "metadata": {},
     "output_type": "execute_result"
    }
   ],
   "source": [
    "CatBoostClassifier().load_model('Metabolic_Syndrome_Predictor_Model').feature_names_\n"
   ]
  }
 ],
 "metadata": {
  "kernelspec": {
   "display_name": "Python 3.9.5 64-bit",
   "language": "python",
   "name": "python3"
  },
  "language_info": {
   "codemirror_mode": {
    "name": "ipython",
    "version": 3
   },
   "file_extension": ".py",
   "mimetype": "text/x-python",
   "name": "python",
   "nbconvert_exporter": "python",
   "pygments_lexer": "ipython3",
   "version": "3.9.5"
  },
  "orig_nbformat": 4,
  "vscode": {
   "interpreter": {
    "hash": "0d591c6e422414675974e227c13f5382000c440fedd3c5006ef2be5d887f0ba7"
   }
  }
 },
 "nbformat": 4,
 "nbformat_minor": 2
}
